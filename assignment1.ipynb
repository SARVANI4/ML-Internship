{
 "cells": [
  {
   "cell_type": "code",
   "execution_count": 2,
   "metadata": {},
   "outputs": [
    {
     "data": {
      "text/plain": [
       "[10,\n",
       " 'joey',\n",
       " 'CSE',\n",
       " 9.0,\n",
       " 11,\n",
       " 'chandler',\n",
       " 'CSE',\n",
       " 7.8,\n",
       " 12,\n",
       " 'rachel',\n",
       " 'Mech',\n",
       " 9.8,\n",
       " 13,\n",
       " 'Ross',\n",
       " 'IT',\n",
       " 10,\n",
       " 14,\n",
       " 'Monica',\n",
       " 'ECE',\n",
       " 8.7,\n",
       " 15,\n",
       " 'saran',\n",
       " 'CSE',\n",
       " 7.7]"
      ]
     },
     "execution_count": 2,
     "metadata": {},
     "output_type": "execute_result"
    }
   ],
   "source": [
    "student = [10,'joey','CSE',9.0,11,'chandler','CSE',7.8,12,'rachel','Mech',9.8,13,'Ross','IT',10,14,'Monica','ECE',8.7]\n",
    "student.append(15)\n",
    "student.append('saran')\n",
    "student.append('CSE')\n",
    "student.append(7.7)\n",
    "student"
   ]
  },
  {
   "cell_type": "code",
   "execution_count": 3,
   "metadata": {},
   "outputs": [
    {
     "data": {
      "text/plain": [
       "[14,\n",
       " 25,\n",
       " 14,\n",
       " 763,\n",
       " 47,\n",
       " 25,\n",
       " 39,\n",
       " 46,\n",
       " 4,\n",
       " 46,\n",
       " 31,\n",
       " 53,\n",
       " 25,\n",
       " 47,\n",
       " 62,\n",
       " 58,\n",
       " 47,\n",
       " 76,\n",
       " 35,\n",
       " 13,\n",
       " 4,\n",
       " 68,\n",
       " 36]"
      ]
     },
     "execution_count": 3,
     "metadata": {},
     "output_type": "execute_result"
    }
   ],
   "source": [
    "region1=[14,25,14,763,47,25,39,46,4,46,31]\n",
    "region2=[53,25,47,62,58,47,76,35,13,4,68,36]\n",
    "region1.extend(region2)\n",
    "region1"
   ]
  },
  {
   "cell_type": "code",
   "execution_count": 6,
   "metadata": {},
   "outputs": [
    {
     "data": {
      "text/plain": [
       "9"
      ]
     },
     "execution_count": 6,
     "metadata": {},
     "output_type": "execute_result"
    }
   ],
   "source": [
    "employee=[1,'sreekar',2,'anirudh',3,'shaktiman',4,'perman',5,'sreekar']\n",
    "employee.index('sreekar',2)"
   ]
  },
  {
   "cell_type": "code",
   "execution_count": 26,
   "metadata": {},
   "outputs": [
    {
     "data": {
      "text/plain": [
       "['black', 'white', 'purple', 'black', 'purple', 'yellow']"
      ]
     },
     "execution_count": 26,
     "metadata": {},
     "output_type": "execute_result"
    }
   ],
   "source": [
    "items=['black','white','red','black','purple']\n",
    "items.extend(['yellow','black'])\n",
    "items\n",
    "items.insert(3,'purple')\n",
    "items.count('black')\n",
    "items\n",
    "items.pop()\n",
    "items.remove(items[2])\n",
    "items\n"
   ]
  },
  {
   "cell_type": "code",
   "execution_count": 16,
   "metadata": {},
   "outputs": [
    {
     "data": {
      "text/plain": [
       "[15, 36, 142, 523, 846]"
      ]
     },
     "execution_count": 16,
     "metadata": {},
     "output_type": "execute_result"
    }
   ],
   "source": [
    "prices=[523,15,36,846,142]\n",
    "prices.sort()\n",
    "prices.reverse()\n",
    "prices"
   ]
  },
  {
   "cell_type": "code",
   "execution_count": 20,
   "metadata": {},
   "outputs": [
    {
     "data": {
      "text/plain": [
       "[0, 2, 4, 6, 8]"
      ]
     },
     "execution_count": 20,
     "metadata": {},
     "output_type": "execute_result"
    }
   ],
   "source": [
    "items=[0,1,2,3,4,5,6,7,8,9]\n",
    "items[0:9:2]"
   ]
  },
  {
   "cell_type": "code",
   "execution_count": 21,
   "metadata": {},
   "outputs": [
    {
     "data": {
      "text/plain": [
       "[1, 3, 5, 7]"
      ]
     },
     "execution_count": 21,
     "metadata": {},
     "output_type": "execute_result"
    }
   ],
   "source": [
    "items[1:9:2]"
   ]
  },
  {
   "cell_type": "code",
   "execution_count": 28,
   "metadata": {},
   "outputs": [
    {
     "data": {
      "text/plain": [
       "(32, 26, 357, 124, 64, 13, 53, 47, 25, 7, 13, 74, 26, 8, 24, 85, 42, 86)"
      ]
     },
     "execution_count": 28,
     "metadata": {},
     "output_type": "execute_result"
    }
   ],
   "source": [
    "region1=(32,26,357,124,64,13,53,47,25,7,13,74)\n",
    "region2=(26,8,24,85,42,86)\n",
    "region1=region1+region2\n",
    "region1"
   ]
  },
  {
   "cell_type": "code",
   "execution_count": 29,
   "metadata": {},
   "outputs": [
    {
     "data": {
      "text/plain": [
       "3"
      ]
     },
     "execution_count": 29,
     "metadata": {},
     "output_type": "execute_result"
    }
   ],
   "source": [
    "student=('sai','saran','sai','ted','batman','clark','diana','prince','sreekar','sai')\n",
    "student.count('sai')"
   ]
  },
  {
   "cell_type": "code",
   "execution_count": 33,
   "metadata": {},
   "outputs": [
    {
     "data": {
      "text/plain": [
       "75"
      ]
     },
     "execution_count": 33,
     "metadata": {},
     "output_type": "execute_result"
    }
   ],
   "source": [
    "quater1=(153,735,14)\n",
    "quater2=(47,53,75)\n",
    "max(quater1)\n",
    "max(quater2)"
   ]
  },
  {
   "cell_type": "code",
   "execution_count": 38,
   "metadata": {},
   "outputs": [
    {
     "data": {
      "text/plain": [
       "['production', 'development', 'marketing', 'RND']"
      ]
     },
     "execution_count": 38,
     "metadata": {},
     "output_type": "execute_result"
    }
   ],
   "source": [
    "emp={'empid':[1,2,3,4],\n",
    "      'empname':['sai','sreekar','pothole','thor'],\n",
    "    'empdept':['production','development','marketing','RND']}\n",
    "emp['empdept']"
   ]
  },
  {
   "cell_type": "code",
   "execution_count": 7,
   "metadata": {},
   "outputs": [
    {
     "data": {
      "text/plain": [
       "{'april': 537,\n",
       " 'may': 680,\n",
       " 'june': 274,\n",
       " 'january': 532,\n",
       " 'february': 635,\n",
       " 'march': 653}"
      ]
     },
     "execution_count": 7,
     "metadata": {},
     "output_type": "execute_result"
    }
   ],
   "source": [
    "region1={'january':532,'february':635,'march':653}\n",
    "region2={'april':537,'may':680,'june':274}\n",
    "region2.update(region1)\n",
    "region2\n"
   ]
  },
  {
   "cell_type": "code",
   "execution_count": 13,
   "metadata": {},
   "outputs": [
    {
     "data": {
      "text/plain": [
       "{1, 2, 3, 4, 5, 6, 7, 8, 9, 10, 11, 12, 13, 14, 15, 16, 17, 18, 19, 20, 21, 22}"
      ]
     },
     "execution_count": 13,
     "metadata": {},
     "output_type": "execute_result"
    }
   ],
   "source": [
    "reg1=set([1,2,3,4,5,6,7,8,9,10,11,12])\n",
    "reg2=([13,14,15,16,17,18,19,20,21,22])\n",
    "reg1.union(reg2)"
   ]
  },
  {
   "cell_type": "code",
   "execution_count": null,
   "metadata": {},
   "outputs": [],
   "source": []
  }
 ],
 "metadata": {
  "kernelspec": {
   "display_name": "Python 3",
   "language": "python",
   "name": "python3"
  },
  "language_info": {
   "codemirror_mode": {
    "name": "ipython",
    "version": 3
   },
   "file_extension": ".py",
   "mimetype": "text/x-python",
   "name": "python",
   "nbconvert_exporter": "python",
   "pygments_lexer": "ipython3",
   "version": "3.7.3"
  }
 },
 "nbformat": 4,
 "nbformat_minor": 2
}
